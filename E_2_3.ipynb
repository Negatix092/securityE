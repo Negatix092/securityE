{
 "cells": [
  {
   "cell_type": "markdown",
   "metadata": {},
   "source": [
    "# 2. Prove that if a cryptosystem has perfect secrecy and |K|= |C|= |P|, then every ciphertext is equally probable."
   ]
  },
  {
   "cell_type": "markdown",
   "metadata": {},
   "source": [
    "We say that a cryptosystem has perfect secrecy if the probability of a message, given a ciphertext, is the same as the probability of the message in spite of the received ciphertext. Hence, knowing the ciphertext gives no information about the original message:\n",
    "\n",
    "$$\n",
    "p(a|b) = p(a)\n",
    "$$\n",
    "\n",
    "for any $a \\in P$ (the plaintext) and $y \\in C$ (the ciphertext). \n",
    "\n",
    "Now, given that our cryptosystem has perfect secrecy, we can try to use Baye's Theorem:\n",
    "\n",
    "$$\n",
    "p(a|b) = \\frac{p(b|a)p(a)}{p(b)}\n",
    "$$\n",
    "\n",
    "because of perfect secrecy, we get:\n",
    "$$\n",
    "p(a) = \\frac{p(b|a)p(a)}{p(b)}\n",
    "$$\n",
    "\n",
    "$$\n",
    "p(b|a) = p(b)\n",
    "$$\n",
    "\n",
    "which means that the probability of obtaining an specific ciphertext $b$ given a plaintext $a$ is the same as just obtaining $b$.\n",
    "\n",
    "Now, we know that $|K| = |C| = |P|$, where:\n",
    "\n",
    "* $|K|$: all the possible keys\n",
    "* $|C|$: all the possible ciphertexts\n",
    "* $|P|$: all the possible plaintexts\n",
    "\n",
    "we can state that all this \"sets\" have a one-to-one correspondance, which means that we can map each plaintext to a unique ciphertext using a unique key $k$ (each pair (a,b) can be uniquely linked through $k$). So there is only **one** key $k$ that satisfies:\n",
    "\n",
    "$$\n",
    "e_k(a) = b\n",
    "$$\n",
    "\n",
    "Now, to obtain an specific $k_i$ from the set of all possible keys ($|K|$), we need every key $k_i$ to have the same probability since we have perfect secrecy, which ensures that there is no key more \"special\" or \"more likely\" to be picked than the other keys that form the set $|K|$ of all possible keys:\n",
    "\n",
    "$$\n",
    "p(k) = \\frac{1}{|K|}\n",
    "$$\n",
    "\n",
    "this equality ensures that each plaintext has a unique key that can map it to a given ciphertext, and all keys are equally likely.\n",
    "\n",
    "Now, let’s calculate the probability of a specific ciphertext ($p(b)$). To find it, it is neccessary to take into consideration all possible plaintext messages $a \\in P$ that could have been turned into the ciphertext $b$. For this, the law of Total Probability is neccesary:\n",
    "\n",
    "$$\n",
    "p(b) = \\sum_{a \\in P}^{} p(b|a)p(a)\n",
    "$$\n",
    "\n",
    "where it is also taken into consideration the probability that a ciphertext $b$ is the result of encrypting a given plaintext $a$ and the probability of picking a plaintext $a$.\n",
    "\n",
    "Now, given a plaintext $a$ and its corresponding ciphertext $b$ the encryption function $e_k(a)=b$ implies that:\n",
    "\n",
    "$$\n",
    "p(b|a) = \\frac{1}{|K|}\n",
    "$$\n",
    "\n",
    "because there is exactly one key that maps a to b, and each key has the same probability to be picked, so:\n",
    "\n",
    "$$\n",
    "p(b) = \\sum_{a \\in P}^{} p(b|a)p(a) = \\sum_{a \\in P}^{} \\frac{1}{|K|}p(a)\n",
    "$$\n",
    "\n",
    "$$\n",
    "p(b) = \\frac{1}{|K|}\\sum_{a \\in P}p(a)\n",
    "$$\n",
    "\n",
    "assuming a perfect distribution over plain text messages, which means that every $a \\in P$ has an equal probability, $\\sum_{a \\in P}p(a) = 1$:\n",
    "\n",
    "$$\n",
    "p(b) = \\frac{1}{|K|}\n",
    "$$\n",
    "\n",
    "and since $|K| = |C|$:\n",
    "\n",
    "$$\n",
    "p(b) = \\frac{1}{|C|}\n",
    "$$\n",
    "\n",
    "which means that each ciphertext $b$ has the same probability of being picked $\\blacksquare$."
   ]
  },
  {
   "cell_type": "markdown",
   "metadata": {},
   "source": []
  },
  {
   "cell_type": "markdown",
   "metadata": {},
   "source": [
    "# 3. Suppose that APNDJI or XYGROBO are ciphertexts that are obtained from encryption using the Shift Cipher. Show in each case that there are two ”meaningful” plaintexts that could encrypt to the given ciphertext."
   ]
  },
  {
   "cell_type": "markdown",
   "metadata": {},
   "source": [
    "We can use a caesar decryption proccess in order to fulfill this task. "
   ]
  },
  {
   "cell_type": "code",
   "execution_count": 1,
   "metadata": {},
   "outputs": [],
   "source": [
    "def caesar_decrypt(ciphertext, shift):\n",
    "    decrypted_text = \"\"\n",
    "    \n",
    "    for char in ciphertext:\n",
    "        if char.isalpha():  # we only work with alphabetic characters\n",
    "            ascii_offset = 65 if char.isupper() else 97 # deal with lower or uppercase \n",
    "            decrypted_text += chr((ord(char) - ascii_offset - shift) % 26 + ascii_offset)\n",
    "        else:\n",
    "            decrypted_text += char \n",
    "\n",
    "    return decrypted_text"
   ]
  },
  {
   "cell_type": "markdown",
   "metadata": {},
   "source": [
    "In order to prove that there are at two \"meaningful\" plaintexts as a result of the decryption process, we can donwload a list of english words from a source like https://github.com/dwyl/english-words, list that can be found in the `words.txt` file. The use of it is justified since it serves as a reference to determine which decrypted outputs are valid English words."
   ]
  },
  {
   "cell_type": "code",
   "execution_count": 7,
   "metadata": {},
   "outputs": [],
   "source": [
    "# Load a list of English words\n",
    "with open(\"words.txt\") as word_file:\n",
    "    english_words = set(word.strip().lower() for word in word_file)"
   ]
  },
  {
   "cell_type": "markdown",
   "metadata": {},
   "source": [
    "Once that is done, the rest is just try the 26 possibilities of shift that are available\n",
    "\n",
    "## For the ciphertext **APNDJI**"
   ]
  },
  {
   "cell_type": "code",
   "execution_count": 8,
   "metadata": {},
   "outputs": [
    {
     "name": "stdout",
     "output_type": "stream",
     "text": [
      "Shift 15: LAYOUT is a valid word\n",
      "Shift 21: FUSION is a valid word\n"
     ]
    }
   ],
   "source": [
    "# Check if each decrypted text is a valid English word\n",
    "for shift in range(26):\n",
    "    decrypted_message = caesar_decrypt(\"APNDJI\", shift).lower()\n",
    "    if decrypted_message in english_words:\n",
    "        print(f\"Shift {shift}: {decrypted_message.upper()} is a valid word\")"
   ]
  },
  {
   "cell_type": "markdown",
   "metadata": {},
   "source": [
    "## For the ciphertext **XYGROBO**"
   ]
  },
  {
   "cell_type": "code",
   "execution_count": 9,
   "metadata": {},
   "outputs": [
    {
     "name": "stdout",
     "output_type": "stream",
     "text": [
      "Shift 10: NOWHERE is a valid word\n",
      "Shift 23: ABJURER is a valid word\n"
     ]
    }
   ],
   "source": [
    "# Check if each decrypted text is a valid English word\n",
    "for shift in range(26):\n",
    "    decrypted_message = caesar_decrypt(\"XYGROBO\", shift).lower()\n",
    "    if decrypted_message in english_words:\n",
    "        print(f\"Shift {shift}: {decrypted_message.upper()} is a valid word\")"
   ]
  },
  {
   "cell_type": "markdown",
   "metadata": {},
   "source": [
    "Thus, for each ciphertext, two different shifts that produce meaningful plaintexts were shown, meeting the requirements of the problem $\\blacksquare$."
   ]
  }
 ],
 "metadata": {
  "kernelspec": {
   "display_name": "base",
   "language": "python",
   "name": "python3"
  },
  "language_info": {
   "codemirror_mode": {
    "name": "ipython",
    "version": 3
   },
   "file_extension": ".py",
   "mimetype": "text/x-python",
   "name": "python",
   "nbconvert_exporter": "python",
   "pygments_lexer": "ipython3",
   "version": "3.9.19"
  }
 },
 "nbformat": 4,
 "nbformat_minor": 2
}
